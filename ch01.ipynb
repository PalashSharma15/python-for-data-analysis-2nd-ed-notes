{
 "cells": [
  {
   "cell_type": "markdown",
   "metadata": {
    "slideshow": {
     "slide_type": "slide"
    }
   },
   "source": [
    "### 1.1 What we will cover?"
   ]
  },
  {
   "cell_type": "markdown",
   "metadata": {
    "slideshow": {
     "slide_type": "fragment"
    }
   },
   "source": [
    "<center>Data Analysis?<br/>\n",
    "OR<br/>\n",
    "Programming libraries, tools<br/>\n",
    "OR<br/>\n",
    "Python Programming for Data Analysis<center/>"
   ]
  },
  {
   "cell_type": "markdown",
   "metadata": {
    "slideshow": {
     "slide_type": "subslide"
    }
   },
   "source": [
    "### What kinds of data?\n",
    "1. Tabular / Spreadsheet-like\n",
    "2. Multi-D Arrays\n",
    "3. Multiple Tables of Data (MySQL)\n",
    "4. Series"
   ]
  },
  {
   "cell_type": "markdown",
   "metadata": {
    "slideshow": {
     "slide_type": "slide"
    }
   },
   "source": [
    "### 1.2 Why Python for Data Analysis?"
   ]
  },
  {
   "cell_type": "markdown",
   "metadata": {
    "slideshow": {
     "slide_type": "fragment"
    }
   },
   "source": [
    "Reasons:<br/>\n",
    "* 1991 -> Python, Perl, Ruby, .... (What is the most common thing between these languages?)\n",
    "* 2005 -> R and Python -> Ruby and Django\n",
    "* Python community -> Scientific Computing & Data Analysis\n",
    "* Interactive computing & Data Visualization\n",
    "* pandas, scikit learn"
   ]
  },
  {
   "cell_type": "markdown",
   "metadata": {
    "slideshow": {
     "slide_type": "subslide"
    }
   },
   "source": [
    "### Python as Glue\n"
   ]
  },
  {
   "cell_type": "markdown",
   "metadata": {
    "slideshow": {
     "slide_type": "subslide"
    }
   },
   "source": [
    "### Solving \"Two-Language\" Problem"
   ]
  },
  {
   "cell_type": "markdown",
   "metadata": {
    "slideshow": {
     "slide_type": "fragment"
    }
   },
   "source": [
    "* Prototyping -> specialized computing language like SAS and R\n",
    "* Production -> Java, C#, C++\n",
    "* What is the benifit? -> Researchers and Software Engineers"
   ]
  },
  {
   "cell_type": "markdown",
   "metadata": {
    "slideshow": {
     "slide_type": "subslide"
    }
   },
   "source": [
    "### Why Not Python?"
   ]
  },
  {
   "cell_type": "markdown",
   "metadata": {
    "slideshow": {
     "slide_type": "fragment"
    }
   },
   "source": [
    "* Interpreted -> Slow. Ex. High-frequency trading system\n",
    "* Highly concurrent, multithreaded applications -> Global interpreter lock (GIL)\n",
    "* Python C extensions, can be ineffective if regular interaction with python object occurs"
   ]
  },
  {
   "cell_type": "markdown",
   "metadata": {
    "slideshow": {
     "slide_type": "slide"
    }
   },
   "source": [
    "### 1.3 Essential Python Libraries"
   ]
  },
  {
   "cell_type": "markdown",
   "metadata": {
    "slideshow": {
     "slide_type": "fragment"
    }
   },
   "source": [
    "* NumPy (Numerical Python)\n",
    "* pandas (Panel Data)\n",
    "* matplotlib\n",
    "* IPython and Jupyter\n",
    "* SciPy\n",
    "* scikit-learn\n",
    "* statsmodels"
   ]
  }
 ],
 "metadata": {
  "celltoolbar": "Slideshow",
  "kernelspec": {
   "display_name": "Python 3",
   "language": "python",
   "name": "python3"
  },
  "language_info": {
   "codemirror_mode": {
    "name": "ipython",
    "version": 3
   },
   "file_extension": ".py",
   "mimetype": "text/x-python",
   "name": "python",
   "nbconvert_exporter": "python",
   "pygments_lexer": "ipython3",
   "version": "3.7.3"
  }
 },
 "nbformat": 4,
 "nbformat_minor": 2
}
